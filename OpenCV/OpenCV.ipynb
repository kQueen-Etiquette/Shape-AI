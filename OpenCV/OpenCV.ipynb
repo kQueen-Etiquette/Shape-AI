{
 "cells": [
  {
   "cell_type": "markdown",
   "id": "84aece67",
   "metadata": {},
   "source": [
    "# Photo Skectching"
   ]
  },
  {
   "cell_type": "code",
   "execution_count": 1,
   "id": "a12df1d0",
   "metadata": {},
   "outputs": [],
   "source": [
    "import numpy as np\n",
    "import cv2"
   ]
  },
  {
   "cell_type": "code",
   "execution_count": 2,
   "id": "d99f9228",
   "metadata": {},
   "outputs": [],
   "source": [
    "img = cv2.imread(\"img 9.png\")\n",
    "# img = cv2.resize(img, (500, 300))\n",
    "cv2.imshow(\"Image\", img)\n",
    "cv2.waitKey(0)\n",
    "cv2.destroyAllWindows()"
   ]
  },
  {
   "cell_type": "code",
   "execution_count": 3,
   "id": "f497838a",
   "metadata": {},
   "outputs": [],
   "source": [
    "imgGray = cv2.cvtColor(img, cv2.COLOR_BGR2GRAY)\n",
    "cv2.imshow(\"Image\", imgGray)\n",
    "cv2.waitKey(0)\n",
    "cv2.destroyAllWindows()"
   ]
  },
  {
   "cell_type": "code",
   "execution_count": 4,
   "id": "0d5d16e4",
   "metadata": {},
   "outputs": [],
   "source": [
    "inverted = cv2.bitwise_not(imgGray)\n",
    "cv2.imshow(\"Image\", inverted)\n",
    "cv2.waitKey(0)\n",
    "cv2.destroyAllWindows()"
   ]
  },
  {
   "cell_type": "code",
   "execution_count": 5,
   "id": "cc724aa6",
   "metadata": {},
   "outputs": [],
   "source": [
    "blur = cv2.GaussianBlur(inverted, (21, 21), 0)\n",
    "cv2.imshow(\"Image\", blur)\n",
    "cv2.waitKey(0)\n",
    "cv2.destroyAllWindows()"
   ]
  },
  {
   "cell_type": "code",
   "execution_count": 6,
   "id": "48c6ded8",
   "metadata": {},
   "outputs": [],
   "source": [
    "invertedblur = cv2.bitwise_not(blur)\n",
    "cv2.imshow(\"Image\", inverted)\n",
    "cv2.waitKey(0)\n",
    "cv2.destroyAllWindows()"
   ]
  },
  {
   "cell_type": "code",
   "execution_count": 7,
   "id": "4301581e",
   "metadata": {},
   "outputs": [],
   "source": [
    "sketch = cv2.divide(imgGray, invertedblur, scale = 200.0)\n",
    "cv2.imshow(\"Image\", sketch)\n",
    "cv2.waitKey(0)\n",
    "cv2.destroyAllWindows()"
   ]
  },
  {
   "cell_type": "markdown",
   "id": "ae9db77a",
   "metadata": {},
   "source": [
    "# Number Plate "
   ]
  },
  {
   "cell_type": "code",
   "execution_count": 8,
   "id": "09c35989",
   "metadata": {},
   "outputs": [],
   "source": [
    "import cv2"
   ]
  },
  {
   "cell_type": "code",
   "execution_count": 9,
   "id": "edaee81f",
   "metadata": {},
   "outputs": [],
   "source": [
    "cap = cv2.VideoCapture(0)\n",
    "\n",
    "while True:\n",
    "    ret, image = cap.read()\n",
    "    \n",
    "    \n",
    "    plate_cascade = cv2.CascadeClassifier(\"plate_number.xml\")\n",
    "    gray_img = cv2.cvtColor(image, cv2.COLOR_BGR2GRAY)\n",
    "    plates = plate_cascade.detectMultiScale(gray_img, 1.05, 5)\n",
    "\n",
    "    for x, y, w, h in plates:\n",
    "        img_cascade = cv2.rectangle(image, (x, y), (x + w, y + h), (0, 255, 0), 3)\n",
    "        \n",
    "\n",
    "    \n",
    "    cv2.imshow(\"image\", image)\n",
    "    if cv2.waitKey(1) & 0xFF == ord('q'):\n",
    "        break\n",
    "        \n",
    "cap.release()\n",
    "cv2.destroyAllWindows()"
   ]
  }
 ],
 "metadata": {
  "kernelspec": {
   "display_name": "Python 3",
   "language": "python",
   "name": "python3"
  },
  "language_info": {
   "codemirror_mode": {
    "name": "ipython",
    "version": 3
   },
   "file_extension": ".py",
   "mimetype": "text/x-python",
   "name": "python",
   "nbconvert_exporter": "python",
   "pygments_lexer": "ipython3",
   "version": "3.8.8"
  }
 },
 "nbformat": 4,
 "nbformat_minor": 5
}
